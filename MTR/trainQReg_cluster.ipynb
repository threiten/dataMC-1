{
 "cells": [
  {
   "cell_type": "code",
   "execution_count": 1,
   "metadata": {
    "collapsed": false
   },
   "outputs": [
    {
     "name": "stdout",
     "output_type": "stream",
     "text": [
      "[('/mnt/t3nfs01/data01/shome/threiten/QReg/dataMC-1/MTR/quantileRegression', 'mc', ('/mnt/t3nfs01/data01/shome/threiten/QReg/test/df_mc_All.h5', 1, 1000), ('probeR9', 0.11, '/mnt/t3nfs01/data01/shome/threiten/QReg/test', '', 3, 9, True)), ('/mnt/t3nfs01/data01/shome/threiten/QReg/dataMC-1/MTR/quantileRegression', 'mc', ('/mnt/t3nfs01/data01/shome/threiten/QReg/test/df_mc_All.h5', 1, 1000), ('probeR9', 0.22, '/mnt/t3nfs01/data01/shome/threiten/QReg/test', '', 3, 9, True)), ('/mnt/t3nfs01/data01/shome/threiten/QReg/dataMC-1/MTR/quantileRegression', 'mc', ('/mnt/t3nfs01/data01/shome/threiten/QReg/test/df_mc_All.h5', 1, 1000), ('probeR9', 0.33, '/mnt/t3nfs01/data01/shome/threiten/QReg/test', '', 3, 9, True)), ('/mnt/t3nfs01/data01/shome/threiten/QReg/dataMC-1/MTR/quantileRegression', 'mc', ('/mnt/t3nfs01/data01/shome/threiten/QReg/test/df_mc_All.h5', 1, 1000), ('probeR9', 0.44, '/mnt/t3nfs01/data01/shome/threiten/QReg/test', '', 3, 9, True)), ('/mnt/t3nfs01/data01/shome/threiten/QReg/dataMC-1/MTR/quantileRegression', 'mc', ('/mnt/t3nfs01/data01/shome/threiten/QReg/test/df_mc_All.h5', 1, 1000), ('probeR9', 0.55, '/mnt/t3nfs01/data01/shome/threiten/QReg/test', '', 3, 9, True)), ('/mnt/t3nfs01/data01/shome/threiten/QReg/dataMC-1/MTR/quantileRegression', 'mc', ('/mnt/t3nfs01/data01/shome/threiten/QReg/test/df_mc_All.h5', 1, 1000), ('probeR9', 0.66, '/mnt/t3nfs01/data01/shome/threiten/QReg/test', '', 3, 9, True)), ('/mnt/t3nfs01/data01/shome/threiten/QReg/dataMC-1/MTR/quantileRegression', 'mc', ('/mnt/t3nfs01/data01/shome/threiten/QReg/test/df_mc_All.h5', 1, 1000), ('probeR9', 0.77, '/mnt/t3nfs01/data01/shome/threiten/QReg/test', '', 3, 9, True)), ('/mnt/t3nfs01/data01/shome/threiten/QReg/dataMC-1/MTR/quantileRegression', 'mc', ('/mnt/t3nfs01/data01/shome/threiten/QReg/test/df_mc_All.h5', 1, 1000), ('probeR9', 0.88, '/mnt/t3nfs01/data01/shome/threiten/QReg/test', '', 3, 9, True)), ('/mnt/t3nfs01/data01/shome/threiten/QReg/dataMC-1/MTR/quantileRegression', 'mc', ('/mnt/t3nfs01/data01/shome/threiten/QReg/test/df_mc_All.h5', 1, 1000), ('probeR9', 0.99, '/mnt/t3nfs01/data01/shome/threiten/QReg/test', '', 3, 9, True))]\n",
      "[('/mnt/t3nfs01/data01/shome/threiten/QReg/dataMC-1/MTR/quantileRegression', 'data', ('/mnt/t3nfs01/data01/shome/threiten/QReg/test/df_data_1-10000.h5', 1, 1000), ('probeR9', 0.11, '/mnt/t3nfs01/data01/shome/threiten/QReg/test', '', 3, 9)), ('/mnt/t3nfs01/data01/shome/threiten/QReg/dataMC-1/MTR/quantileRegression', 'data', ('/mnt/t3nfs01/data01/shome/threiten/QReg/test/df_data_1-10000.h5', 1, 1000), ('probeR9', 0.22, '/mnt/t3nfs01/data01/shome/threiten/QReg/test', '', 3, 9)), ('/mnt/t3nfs01/data01/shome/threiten/QReg/dataMC-1/MTR/quantileRegression', 'data', ('/mnt/t3nfs01/data01/shome/threiten/QReg/test/df_data_1-10000.h5', 1, 1000), ('probeR9', 0.33, '/mnt/t3nfs01/data01/shome/threiten/QReg/test', '', 3, 9)), ('/mnt/t3nfs01/data01/shome/threiten/QReg/dataMC-1/MTR/quantileRegression', 'data', ('/mnt/t3nfs01/data01/shome/threiten/QReg/test/df_data_1-10000.h5', 1, 1000), ('probeR9', 0.44, '/mnt/t3nfs01/data01/shome/threiten/QReg/test', '', 3, 9)), ('/mnt/t3nfs01/data01/shome/threiten/QReg/dataMC-1/MTR/quantileRegression', 'data', ('/mnt/t3nfs01/data01/shome/threiten/QReg/test/df_data_1-10000.h5', 1, 1000), ('probeR9', 0.55, '/mnt/t3nfs01/data01/shome/threiten/QReg/test', '', 3, 9)), ('/mnt/t3nfs01/data01/shome/threiten/QReg/dataMC-1/MTR/quantileRegression', 'data', ('/mnt/t3nfs01/data01/shome/threiten/QReg/test/df_data_1-10000.h5', 1, 1000), ('probeR9', 0.66, '/mnt/t3nfs01/data01/shome/threiten/QReg/test', '', 3, 9)), ('/mnt/t3nfs01/data01/shome/threiten/QReg/dataMC-1/MTR/quantileRegression', 'data', ('/mnt/t3nfs01/data01/shome/threiten/QReg/test/df_data_1-10000.h5', 1, 1000), ('probeR9', 0.77, '/mnt/t3nfs01/data01/shome/threiten/QReg/test', '', 3, 9)), ('/mnt/t3nfs01/data01/shome/threiten/QReg/dataMC-1/MTR/quantileRegression', 'data', ('/mnt/t3nfs01/data01/shome/threiten/QReg/test/df_data_1-10000.h5', 1, 1000), ('probeR9', 0.88, '/mnt/t3nfs01/data01/shome/threiten/QReg/test', '', 3, 9)), ('/mnt/t3nfs01/data01/shome/threiten/QReg/dataMC-1/MTR/quantileRegression', 'data', ('/mnt/t3nfs01/data01/shome/threiten/QReg/test/df_data_1-10000.h5', 1, 1000), ('probeR9', 0.99, '/mnt/t3nfs01/data01/shome/threiten/QReg/test', '', 3, 9))]\n"
     ]
    }
   ],
   "source": [
    "quantiles = [.11,.22,.33,.44,.55,.66,.77,.88,.99]\n",
    "startEvt=1\n",
    "stopEvt=1000\n",
    "workDir = \"/mnt/t3nfs01/data01/shome/threiten/QReg/test\"\n",
    "Y=\"probeR9\"\n",
    "\n",
    "arg_list_mc=map(lambda q: (\"/mnt/t3nfs01/data01/shome/threiten/QReg/dataMC-1/MTR/quantileRegression\",\n",
    "                           \"mc\",\n",
    "                          (workDir + \"/df_mc_All.h5\",startEvt,stopEvt,12345,True),\n",
    "                          (Y, q, workDir, \"\"  , 3, 9, True)),\n",
    "                           quantiles)\n",
    "\n",
    "arg_list_data=map(lambda q: (\"/mnt/t3nfs01/data01/shome/threiten/QReg/dataMC-1/MTR/quantileRegression\",\n",
    "                             \"data\",\n",
    "                            (workDir + \"/df_data_1-10000.h5\",startEvt,stopEvt,12345,True),\n",
    "                            (Y, q, workDir, \"\"  , 3, 9)),\n",
    "                             quantiles)\n",
    "\n",
    "print arg_list_mc\n",
    "print arg_list_data"
   ]
  },
  {
   "cell_type": "code",
   "execution_count": 2,
   "metadata": {
    "collapsed": true
   },
   "outputs": [],
   "source": [
    "import ipyparallel as ipp\n",
    "rc = ipp.Client(profile='all')"
   ]
  },
  {
   "cell_type": "code",
   "execution_count": 3,
   "metadata": {
    "collapsed": false
   },
   "outputs": [
    {
     "data": {
      "text/plain": [
       "[0, 1, 2, 3, 4, 5, 6, 7, 8, 9, 10, 11, 12, 13, 14, 15, 16, 17]"
      ]
     },
     "execution_count": 3,
     "metadata": {},
     "output_type": "execute_result"
    }
   ],
   "source": [
    "rc.ids"
   ]
  },
  {
   "cell_type": "code",
   "execution_count": 4,
   "metadata": {
    "collapsed": false
   },
   "outputs": [],
   "source": [
    "dview_d = rc[::2]"
   ]
  },
  {
   "cell_type": "code",
   "execution_count": 5,
   "metadata": {
    "collapsed": false
   },
   "outputs": [
    {
     "data": {
      "text/plain": [
       "[0, 2, 4, 6, 8, 10, 12, 14, 16]"
      ]
     },
     "execution_count": 5,
     "metadata": {},
     "output_type": "execute_result"
    }
   ],
   "source": [
    "dview_d.targets"
   ]
  },
  {
   "cell_type": "code",
   "execution_count": 6,
   "metadata": {
    "collapsed": false
   },
   "outputs": [
    {
     "data": {
      "text/plain": [
       "<AsyncResult: scatter>"
      ]
     },
     "execution_count": 6,
     "metadata": {},
     "output_type": "execute_result"
    }
   ],
   "source": [
    "dview_d.scatter('args',arg_list_data)"
   ]
  },
  {
   "cell_type": "code",
   "execution_count": 7,
   "metadata": {
    "collapsed": true
   },
   "outputs": [],
   "source": [
    "dview_mc = rc[1::2]"
   ]
  },
  {
   "cell_type": "code",
   "execution_count": 8,
   "metadata": {
    "collapsed": false
   },
   "outputs": [
    {
     "data": {
      "text/plain": [
       "<AsyncResult: scatter>"
      ]
     },
     "execution_count": 8,
     "metadata": {},
     "output_type": "execute_result"
    }
   ],
   "source": [
    "dview_mc.scatter('args',arg_list_mc)"
   ]
  },
  {
   "cell_type": "code",
   "execution_count": 9,
   "metadata": {
    "collapsed": false
   },
   "outputs": [
    {
     "name": "stdout",
     "output_type": "stream",
     "text": [
      "[stdout:0] [('/mnt/t3nfs01/data01/shome/threiten/QReg/dataMC-1/MTR/quantileRegression', 'data', ('/mnt/t3nfs01/data01/shome/threiten/QReg/test/df_data_1-10000.h5', 1, 1000), ('probeR9', 0.11, '/mnt/t3nfs01/data01/shome/threiten/QReg/test', '', 3, 9))]\n",
      "[stdout:1] [('/mnt/t3nfs01/data01/shome/threiten/QReg/dataMC-1/MTR/quantileRegression', 'mc', ('/mnt/t3nfs01/data01/shome/threiten/QReg/test/df_mc_All.h5', 1, 1000), ('probeR9', 0.11, '/mnt/t3nfs01/data01/shome/threiten/QReg/test', '', 3, 9, True))]\n",
      "[stdout:2] [('/mnt/t3nfs01/data01/shome/threiten/QReg/dataMC-1/MTR/quantileRegression', 'data', ('/mnt/t3nfs01/data01/shome/threiten/QReg/test/df_data_1-10000.h5', 1, 1000), ('probeR9', 0.22, '/mnt/t3nfs01/data01/shome/threiten/QReg/test', '', 3, 9))]\n",
      "[stdout:3] [('/mnt/t3nfs01/data01/shome/threiten/QReg/dataMC-1/MTR/quantileRegression', 'mc', ('/mnt/t3nfs01/data01/shome/threiten/QReg/test/df_mc_All.h5', 1, 1000), ('probeR9', 0.22, '/mnt/t3nfs01/data01/shome/threiten/QReg/test', '', 3, 9, True))]\n",
      "[stdout:4] [('/mnt/t3nfs01/data01/shome/threiten/QReg/dataMC-1/MTR/quantileRegression', 'data', ('/mnt/t3nfs01/data01/shome/threiten/QReg/test/df_data_1-10000.h5', 1, 1000), ('probeR9', 0.33, '/mnt/t3nfs01/data01/shome/threiten/QReg/test', '', 3, 9))]\n",
      "[stdout:5] [('/mnt/t3nfs01/data01/shome/threiten/QReg/dataMC-1/MTR/quantileRegression', 'mc', ('/mnt/t3nfs01/data01/shome/threiten/QReg/test/df_mc_All.h5', 1, 1000), ('probeR9', 0.33, '/mnt/t3nfs01/data01/shome/threiten/QReg/test', '', 3, 9, True))]\n",
      "[stdout:6] [('/mnt/t3nfs01/data01/shome/threiten/QReg/dataMC-1/MTR/quantileRegression', 'data', ('/mnt/t3nfs01/data01/shome/threiten/QReg/test/df_data_1-10000.h5', 1, 1000), ('probeR9', 0.44, '/mnt/t3nfs01/data01/shome/threiten/QReg/test', '', 3, 9))]\n",
      "[stdout:7] [('/mnt/t3nfs01/data01/shome/threiten/QReg/dataMC-1/MTR/quantileRegression', 'mc', ('/mnt/t3nfs01/data01/shome/threiten/QReg/test/df_mc_All.h5', 1, 1000), ('probeR9', 0.44, '/mnt/t3nfs01/data01/shome/threiten/QReg/test', '', 3, 9, True))]\n",
      "[stdout:8] [('/mnt/t3nfs01/data01/shome/threiten/QReg/dataMC-1/MTR/quantileRegression', 'data', ('/mnt/t3nfs01/data01/shome/threiten/QReg/test/df_data_1-10000.h5', 1, 1000), ('probeR9', 0.55, '/mnt/t3nfs01/data01/shome/threiten/QReg/test', '', 3, 9))]\n",
      "[stdout:9] [('/mnt/t3nfs01/data01/shome/threiten/QReg/dataMC-1/MTR/quantileRegression', 'mc', ('/mnt/t3nfs01/data01/shome/threiten/QReg/test/df_mc_All.h5', 1, 1000), ('probeR9', 0.55, '/mnt/t3nfs01/data01/shome/threiten/QReg/test', '', 3, 9, True))]\n",
      "[stdout:10] [('/mnt/t3nfs01/data01/shome/threiten/QReg/dataMC-1/MTR/quantileRegression', 'data', ('/mnt/t3nfs01/data01/shome/threiten/QReg/test/df_data_1-10000.h5', 1, 1000), ('probeR9', 0.66, '/mnt/t3nfs01/data01/shome/threiten/QReg/test', '', 3, 9))]\n",
      "[stdout:11] [('/mnt/t3nfs01/data01/shome/threiten/QReg/dataMC-1/MTR/quantileRegression', 'mc', ('/mnt/t3nfs01/data01/shome/threiten/QReg/test/df_mc_All.h5', 1, 1000), ('probeR9', 0.66, '/mnt/t3nfs01/data01/shome/threiten/QReg/test', '', 3, 9, True))]\n",
      "[stdout:12] [('/mnt/t3nfs01/data01/shome/threiten/QReg/dataMC-1/MTR/quantileRegression', 'data', ('/mnt/t3nfs01/data01/shome/threiten/QReg/test/df_data_1-10000.h5', 1, 1000), ('probeR9', 0.77, '/mnt/t3nfs01/data01/shome/threiten/QReg/test', '', 3, 9))]\n",
      "[stdout:13] [('/mnt/t3nfs01/data01/shome/threiten/QReg/dataMC-1/MTR/quantileRegression', 'mc', ('/mnt/t3nfs01/data01/shome/threiten/QReg/test/df_mc_All.h5', 1, 1000), ('probeR9', 0.77, '/mnt/t3nfs01/data01/shome/threiten/QReg/test', '', 3, 9, True))]\n",
      "[stdout:14] [('/mnt/t3nfs01/data01/shome/threiten/QReg/dataMC-1/MTR/quantileRegression', 'data', ('/mnt/t3nfs01/data01/shome/threiten/QReg/test/df_data_1-10000.h5', 1, 1000), ('probeR9', 0.88, '/mnt/t3nfs01/data01/shome/threiten/QReg/test', '', 3, 9))]\n",
      "[stdout:15] [('/mnt/t3nfs01/data01/shome/threiten/QReg/dataMC-1/MTR/quantileRegression', 'mc', ('/mnt/t3nfs01/data01/shome/threiten/QReg/test/df_mc_All.h5', 1, 1000), ('probeR9', 0.88, '/mnt/t3nfs01/data01/shome/threiten/QReg/test', '', 3, 9, True))]\n",
      "[stdout:16] [('/mnt/t3nfs01/data01/shome/threiten/QReg/dataMC-1/MTR/quantileRegression', 'data', ('/mnt/t3nfs01/data01/shome/threiten/QReg/test/df_data_1-10000.h5', 1, 1000), ('probeR9', 0.99, '/mnt/t3nfs01/data01/shome/threiten/QReg/test', '', 3, 9))]\n",
      "[stdout:17] [('/mnt/t3nfs01/data01/shome/threiten/QReg/dataMC-1/MTR/quantileRegression', 'mc', ('/mnt/t3nfs01/data01/shome/threiten/QReg/test/df_mc_All.h5', 1, 1000), ('probeR9', 0.99, '/mnt/t3nfs01/data01/shome/threiten/QReg/test', '', 3, 9, True))]\n"
     ]
    }
   ],
   "source": [
    "%px print args"
   ]
  },
  {
   "cell_type": "code",
   "execution_count": 12,
   "metadata": {
    "collapsed": false
   },
   "outputs": [
    {
     "data": {
      "text/plain": [
       "<AsyncResult: execute>"
      ]
     },
     "execution_count": 12,
     "metadata": {},
     "output_type": "execute_result"
    }
   ],
   "source": [
    "%%px --noblock\n",
    "\n",
    "lib, tpe, args_df, args_tr = args[0]\n",
    "from import_file import import_file\n",
    "QReg = import_file(lib)\n",
    "qReg=QReg.quantileRegression(tpe)\n",
    "qReg.loadDFh5(*args_df)\n",
    "qReg.trainQuantile(*args_tr)"
   ]
  },
  {
   "cell_type": "code",
   "execution_count": 14,
   "metadata": {
    "collapsed": false
   },
   "outputs": [
    {
     "name": "stdout",
     "output_type": "stream",
     "text": [
      "[stdout:0] \n",
      "Welcome to ROOTaaS 6.06/05\n",
      "Loading dataframe from :  /mnt/t3nfs01/data01/shome/threiten/QReg/test/df_data_1-10000.h5\n",
      "\u001b[92mReshuffle events\u001b[0m rndm seed  =  12345\n",
      "\u001b[92mSelecting events \u001b[0m  [ 1 ,  1000 ]  out of  9999\n",
      "number of events: 999\n",
      "Training both EB and EE together\n",
      "Data runMin=  297050  - runMax =  305636\n",
      "\u001b[92mTrain q = \u001b[0m 0.11\n",
      " time =  0.217852830887\n",
      "Predict\n",
      " time =  0.00400280952454\n",
      "Save weights\n",
      "/mnt/t3nfs01/data01/shome/threiten/QReg/test/data_weights_probeR9_0.11.pkl\n",
      "[stdout:3] \n",
      "Welcome to ROOTaaS 6.06/05\n",
      "Loading dataframe from :  /mnt/t3nfs01/data01/shome/threiten/QReg/test/df_mc_All.h5\n",
      "\u001b[92mReshuffle events\u001b[0m rndm seed  =  12345\n",
      "\u001b[92mSelecting events \u001b[0m  [ 1 ,  1000 ]  out of  4595295\n",
      "number of events: 999\n",
      "Training both EB and EE together\n",
      "Data runMin=  1  - runMax =  1\n",
      "\u001b[92mTrain q = \u001b[0m 0.22\n",
      " time =  0.230520009995\n",
      "Predict\n",
      " time =  0.00375604629517\n",
      "Save weights\n",
      "/mnt/t3nfs01/data01/shome/threiten/QReg/test/mc_weights_probeR9_0.22.pkl\n",
      "[stdout:4] \n",
      "Welcome to ROOTaaS 6.06/05\n",
      "Loading dataframe from :  /mnt/t3nfs01/data01/shome/threiten/QReg/test/df_data_1-10000.h5\n",
      "\u001b[92mReshuffle events\u001b[0m rndm seed  =  12345\n",
      "\u001b[92mSelecting events \u001b[0m  [ 1 ,  1000 ]  out of  9999\n",
      "number of events: 999\n",
      "Training both EB and EE together\n",
      "Data runMin=  297050  - runMax =  305636\n",
      "\u001b[92mTrain q = \u001b[0m 0.33\n",
      " time =  0.219621181488\n",
      "Predict\n",
      " time =  0.00377106666565\n",
      "Save weights\n",
      "/mnt/t3nfs01/data01/shome/threiten/QReg/test/data_weights_probeR9_0.33.pkl\n",
      "[stdout:5] \n",
      "Welcome to ROOTaaS 6.06/05\n",
      "Loading dataframe from :  /mnt/t3nfs01/data01/shome/threiten/QReg/test/df_mc_All.h5\n",
      "\u001b[92mReshuffle events\u001b[0m rndm seed  =  12345\n",
      "\u001b[92mSelecting events \u001b[0m  [ 1 ,  1000 ]  out of  4595295\n",
      "number of events: 999\n",
      "Training both EB and EE together\n",
      "Data runMin=  1  - runMax =  1\n",
      "\u001b[92mTrain q = \u001b[0m 0.33\n",
      " time =  0.157231092453\n",
      "Predict\n",
      " time =  0.00252389907837\n",
      "Save weights\n",
      "/mnt/t3nfs01/data01/shome/threiten/QReg/test/mc_weights_probeR9_0.33.pkl\n",
      "[stdout:6] \n",
      "Welcome to ROOTaaS 6.06/05\n",
      "Loading dataframe from :  /mnt/t3nfs01/data01/shome/threiten/QReg/test/df_data_1-10000.h5\n",
      "\u001b[92mReshuffle events\u001b[0m rndm seed  =  12345\n",
      "\u001b[92mSelecting events \u001b[0m  [ 1 ,  1000 ]  out of  9999\n",
      "number of events: 999\n",
      "Training both EB and EE together\n",
      "Data runMin=  297050  - runMax =  305636\n",
      "\u001b[92mTrain q = \u001b[0m 0.44\n",
      " time =  0.221654891968\n",
      "Predict\n",
      " time =  0.00361013412476\n",
      "Save weights\n",
      "/mnt/t3nfs01/data01/shome/threiten/QReg/test/data_weights_probeR9_0.44.pkl\n",
      "[stdout:7] \n",
      "Welcome to ROOTaaS 6.06/05\n",
      "Loading dataframe from :  /mnt/t3nfs01/data01/shome/threiten/QReg/test/df_mc_All.h5\n",
      "\u001b[92mReshuffle events\u001b[0m rndm seed  =  12345\n",
      "\u001b[92mSelecting events \u001b[0m  [ 1 ,  1000 ]  out of  4595295\n",
      "number of events: 999\n",
      "Training both EB and EE together\n",
      "Data runMin=  1  - runMax =  1\n",
      "\u001b[92mTrain q = \u001b[0m 0.44\n",
      " time =  0.150413036346\n",
      "Predict\n",
      " time =  0.00219798088074\n",
      "Save weights\n",
      "/mnt/t3nfs01/data01/shome/threiten/QReg/test/mc_weights_probeR9_0.44.pkl\n",
      "[stdout:8] \n",
      "Welcome to ROOTaaS 6.06/05\n",
      "Loading dataframe from :  /mnt/t3nfs01/data01/shome/threiten/QReg/test/df_data_1-10000.h5\n",
      "\u001b[92mReshuffle events\u001b[0m rndm seed  =  12345\n",
      "\u001b[92mSelecting events \u001b[0m  [ 1 ,  1000 ]  out of  9999\n",
      "number of events: 999\n",
      "Training both EB and EE together\n",
      "Data runMin=  297050  - runMax =  305636\n",
      "\u001b[92mTrain q = \u001b[0m 0.55\n",
      " time =  0.217636108398\n",
      "Predict\n",
      " time =  0.00362181663513\n",
      "Save weights\n",
      "/mnt/t3nfs01/data01/shome/threiten/QReg/test/data_weights_probeR9_0.55.pkl\n",
      "[stdout:9] \n",
      "Welcome to ROOTaaS 6.06/05\n",
      "Loading dataframe from :  /mnt/t3nfs01/data01/shome/threiten/QReg/test/df_mc_All.h5\n",
      "\u001b[92mReshuffle events\u001b[0m rndm seed  =  12345\n",
      "\u001b[92mSelecting events \u001b[0m  [ 1 ,  1000 ]  out of  4595295\n",
      "number of events: 999\n",
      "Training both EB and EE together\n",
      "Data runMin=  1  - runMax =  1\n",
      "\u001b[92mTrain q = \u001b[0m 0.55\n",
      " time =  0.217036008835\n",
      "Predict\n",
      " time =  0.00343298912048\n",
      "Save weights\n",
      "/mnt/t3nfs01/data01/shome/threiten/QReg/test/mc_weights_probeR9_0.55.pkl\n",
      "[stdout:10] \n",
      "Welcome to ROOTaaS 6.06/05\n",
      "Loading dataframe from :  /mnt/t3nfs01/data01/shome/threiten/QReg/test/df_data_1-10000.h5\n",
      "\u001b[92mReshuffle events\u001b[0m rndm seed  =  12345\n",
      "\u001b[92mSelecting events \u001b[0m  [ 1 ,  1000 ]  out of  9999\n",
      "number of events: 999\n",
      "Training both EB and EE together\n",
      "Data runMin=  297050  - runMax =  305636\n",
      "\u001b[92mTrain q = \u001b[0m 0.66\n",
      " time =  0.218289136887\n",
      "Predict\n",
      " time =  0.00364089012146\n",
      "Save weights\n",
      "/mnt/t3nfs01/data01/shome/threiten/QReg/test/data_weights_probeR9_0.66.pkl\n",
      "[stdout:11] \n",
      "Welcome to ROOTaaS 6.06/05\n",
      "Loading dataframe from :  /mnt/t3nfs01/data01/shome/threiten/QReg/test/df_mc_All.h5\n",
      "\u001b[92mReshuffle events\u001b[0m rndm seed  =  12345\n",
      "\u001b[92mSelecting events \u001b[0m  [ 1 ,  1000 ]  out of  4595295\n",
      "number of events: 999\n",
      "Training both EB and EE together\n",
      "Data runMin=  1  - runMax =  1\n",
      "\u001b[92mTrain q = \u001b[0m 0.66\n",
      " time =  0.141723155975\n",
      "Predict\n",
      " time =  0.00213193893433\n",
      "Save weights\n",
      "/mnt/t3nfs01/data01/shome/threiten/QReg/test/mc_weights_probeR9_0.66.pkl\n",
      "[stdout:12] \n",
      "Welcome to ROOTaaS 6.06/05\n",
      "Loading dataframe from :  /mnt/t3nfs01/data01/shome/threiten/QReg/test/df_data_1-10000.h5\n",
      "\u001b[92mReshuffle events\u001b[0m rndm seed  =  12345\n",
      "\u001b[92mSelecting events \u001b[0m  [ 1 ,  1000 ]  out of  9999\n",
      "number of events: 999\n",
      "Training both EB and EE together\n",
      "Data runMin=  297050  - runMax =  305636\n",
      "\u001b[92mTrain q = \u001b[0m 0.77\n",
      " time =  0.156967878342\n",
      "Predict\n",
      " time =  0.00259709358215\n",
      "Save weights\n",
      "/mnt/t3nfs01/data01/shome/threiten/QReg/test/data_weights_probeR9_0.77.pkl\n",
      "[stdout:13] \n",
      "Welcome to ROOTaaS 6.06/05\n",
      "Loading dataframe from :  /mnt/t3nfs01/data01/shome/threiten/QReg/test/df_mc_All.h5\n",
      "\u001b[92mReshuffle events\u001b[0m rndm seed  =  12345\n",
      "\u001b[92mSelecting events \u001b[0m  [ 1 ,  1000 ]  out of  4595295\n",
      "number of events: 999\n",
      "Training both EB and EE together\n",
      "Data runMin=  1  - runMax =  1\n",
      "\u001b[92mTrain q = \u001b[0m 0.77\n",
      " time =  0.222725152969\n",
      "Predict\n",
      " time =  0.00408387184143\n",
      "Save weights\n",
      "/mnt/t3nfs01/data01/shome/threiten/QReg/test/mc_weights_probeR9_0.77.pkl\n",
      "[stdout:14] \n",
      "Welcome to ROOTaaS 6.06/05\n",
      "Loading dataframe from :  /mnt/t3nfs01/data01/shome/threiten/QReg/test/df_data_1-10000.h5\n",
      "\u001b[92mReshuffle events\u001b[0m rndm seed  =  12345\n",
      "\u001b[92mSelecting events \u001b[0m  [ 1 ,  1000 ]  out of  9999\n",
      "number of events: 999\n",
      "Training both EB and EE together\n",
      "Data runMin=  297050  - runMax =  305636\n",
      "\u001b[92mTrain q = \u001b[0m 0.88\n",
      " time =  0.209110975266\n",
      "Predict\n",
      " time =  0.00379395484924\n",
      "Save weights\n",
      "/mnt/t3nfs01/data01/shome/threiten/QReg/test/data_weights_probeR9_0.88.pkl\n",
      "[stdout:15] \n",
      "Welcome to ROOTaaS 6.06/05\n",
      "Loading dataframe from :  /mnt/t3nfs01/data01/shome/threiten/QReg/test/df_mc_All.h5\n",
      "\u001b[92mReshuffle events\u001b[0m rndm seed  =  12345\n",
      "\u001b[92mSelecting events \u001b[0m  [ 1 ,  1000 ]  out of  4595295\n",
      "number of events: 999\n",
      "Training both EB and EE together\n",
      "Data runMin=  1  - runMax =  1\n",
      "\u001b[92mTrain q = \u001b[0m 0.88\n",
      " time =  0.221853017807\n",
      "Predict\n",
      " time =  0.00400280952454\n",
      "Save weights\n",
      "/mnt/t3nfs01/data01/shome/threiten/QReg/test/mc_weights_probeR9_0.88.pkl\n",
      "[stdout:16] \n",
      "Welcome to ROOTaaS 6.06/05\n",
      "Loading dataframe from :  /mnt/t3nfs01/data01/shome/threiten/QReg/test/df_data_1-10000.h5\n",
      "\u001b[92mReshuffle events\u001b[0m rndm seed  =  12345\n",
      "\u001b[92mSelecting events \u001b[0m  [ 1 ,  1000 ]  out of  9999\n",
      "number of events: 999\n",
      "Training both EB and EE together\n",
      "Data runMin=  297050  - runMax =  305636\n",
      "\u001b[92mTrain q = \u001b[0m 0.99\n",
      " time =  0.137891054153\n",
      "Predict\n",
      " time =  0.00184297561646\n",
      "Save weights\n",
      "/mnt/t3nfs01/data01/shome/threiten/QReg/test/data_weights_probeR9_0.99.pkl\n",
      "[stdout:17] \n",
      "Welcome to ROOTaaS 6.06/05\n",
      "Loading dataframe from :  /mnt/t3nfs01/data01/shome/threiten/QReg/test/df_mc_All.h5\n",
      "\u001b[92mReshuffle events\u001b[0m rndm seed  =  12345\n",
      "\u001b[92mSelecting events \u001b[0m  [ 1 ,  1000 ]  out of  4595295\n",
      "number of events: 999\n",
      "Training both EB and EE together\n",
      "Data runMin=  1  - runMax =  1\n",
      "\u001b[92mTrain q = \u001b[0m 0.99\n",
      " time =  0.154206991196\n",
      "Predict\n",
      " time =  0.00223898887634\n",
      "Save weights\n",
      "/mnt/t3nfs01/data01/shome/threiten/QReg/test/mc_weights_probeR9_0.99.pkl\n"
     ]
    },
    {
     "data": {
      "text/plain": [
       "[output:0]"
      ]
     },
     "metadata": {},
     "output_type": "display_data"
    },
    {
     "data": {
      "application/javascript": [
       "require(['codemirror/mode/clike/clike'], function(Clike) { console.log('ROOTaaS - C++ CodeMirror module loaded'); });"
      ]
     },
     "metadata": {
      "engine": 0
     },
     "output_type": "display_data"
    },
    {
     "data": {
      "application/javascript": [
       "IPython.CodeCell.config_defaults.highlight_modes['magic_text/x-c++src'] = {'reg':[/^%%cpp/]};"
      ]
     },
     "metadata": {
      "engine": 0
     },
     "output_type": "display_data"
    },
    {
     "data": {
      "text/plain": [
       "[output:3]"
      ]
     },
     "metadata": {},
     "output_type": "display_data"
    },
    {
     "data": {
      "application/javascript": [
       "require(['codemirror/mode/clike/clike'], function(Clike) { console.log('ROOTaaS - C++ CodeMirror module loaded'); });"
      ]
     },
     "metadata": {
      "engine": 3
     },
     "output_type": "display_data"
    },
    {
     "data": {
      "application/javascript": [
       "IPython.CodeCell.config_defaults.highlight_modes['magic_text/x-c++src'] = {'reg':[/^%%cpp/]};"
      ]
     },
     "metadata": {
      "engine": 3
     },
     "output_type": "display_data"
    },
    {
     "data": {
      "text/plain": [
       "[output:4]"
      ]
     },
     "metadata": {},
     "output_type": "display_data"
    },
    {
     "data": {
      "application/javascript": [
       "require(['codemirror/mode/clike/clike'], function(Clike) { console.log('ROOTaaS - C++ CodeMirror module loaded'); });"
      ]
     },
     "metadata": {
      "engine": 4
     },
     "output_type": "display_data"
    },
    {
     "data": {
      "application/javascript": [
       "IPython.CodeCell.config_defaults.highlight_modes['magic_text/x-c++src'] = {'reg':[/^%%cpp/]};"
      ]
     },
     "metadata": {
      "engine": 4
     },
     "output_type": "display_data"
    },
    {
     "data": {
      "text/plain": [
       "[output:5]"
      ]
     },
     "metadata": {},
     "output_type": "display_data"
    },
    {
     "data": {
      "application/javascript": [
       "require(['codemirror/mode/clike/clike'], function(Clike) { console.log('ROOTaaS - C++ CodeMirror module loaded'); });"
      ]
     },
     "metadata": {
      "engine": 5
     },
     "output_type": "display_data"
    },
    {
     "data": {
      "application/javascript": [
       "IPython.CodeCell.config_defaults.highlight_modes['magic_text/x-c++src'] = {'reg':[/^%%cpp/]};"
      ]
     },
     "metadata": {
      "engine": 5
     },
     "output_type": "display_data"
    },
    {
     "data": {
      "text/plain": [
       "[output:6]"
      ]
     },
     "metadata": {},
     "output_type": "display_data"
    },
    {
     "data": {
      "application/javascript": [
       "require(['codemirror/mode/clike/clike'], function(Clike) { console.log('ROOTaaS - C++ CodeMirror module loaded'); });"
      ]
     },
     "metadata": {
      "engine": 6
     },
     "output_type": "display_data"
    },
    {
     "data": {
      "application/javascript": [
       "IPython.CodeCell.config_defaults.highlight_modes['magic_text/x-c++src'] = {'reg':[/^%%cpp/]};"
      ]
     },
     "metadata": {
      "engine": 6
     },
     "output_type": "display_data"
    },
    {
     "data": {
      "text/plain": [
       "[output:7]"
      ]
     },
     "metadata": {},
     "output_type": "display_data"
    },
    {
     "data": {
      "application/javascript": [
       "require(['codemirror/mode/clike/clike'], function(Clike) { console.log('ROOTaaS - C++ CodeMirror module loaded'); });"
      ]
     },
     "metadata": {
      "engine": 7
     },
     "output_type": "display_data"
    },
    {
     "data": {
      "application/javascript": [
       "IPython.CodeCell.config_defaults.highlight_modes['magic_text/x-c++src'] = {'reg':[/^%%cpp/]};"
      ]
     },
     "metadata": {
      "engine": 7
     },
     "output_type": "display_data"
    },
    {
     "data": {
      "text/plain": [
       "[output:8]"
      ]
     },
     "metadata": {},
     "output_type": "display_data"
    },
    {
     "data": {
      "application/javascript": [
       "require(['codemirror/mode/clike/clike'], function(Clike) { console.log('ROOTaaS - C++ CodeMirror module loaded'); });"
      ]
     },
     "metadata": {
      "engine": 8
     },
     "output_type": "display_data"
    },
    {
     "data": {
      "application/javascript": [
       "IPython.CodeCell.config_defaults.highlight_modes['magic_text/x-c++src'] = {'reg':[/^%%cpp/]};"
      ]
     },
     "metadata": {
      "engine": 8
     },
     "output_type": "display_data"
    },
    {
     "data": {
      "text/plain": [
       "[output:9]"
      ]
     },
     "metadata": {},
     "output_type": "display_data"
    },
    {
     "data": {
      "application/javascript": [
       "require(['codemirror/mode/clike/clike'], function(Clike) { console.log('ROOTaaS - C++ CodeMirror module loaded'); });"
      ]
     },
     "metadata": {
      "engine": 9
     },
     "output_type": "display_data"
    },
    {
     "data": {
      "application/javascript": [
       "IPython.CodeCell.config_defaults.highlight_modes['magic_text/x-c++src'] = {'reg':[/^%%cpp/]};"
      ]
     },
     "metadata": {
      "engine": 9
     },
     "output_type": "display_data"
    },
    {
     "data": {
      "text/plain": [
       "[output:10]"
      ]
     },
     "metadata": {},
     "output_type": "display_data"
    },
    {
     "data": {
      "application/javascript": [
       "require(['codemirror/mode/clike/clike'], function(Clike) { console.log('ROOTaaS - C++ CodeMirror module loaded'); });"
      ]
     },
     "metadata": {
      "engine": 10
     },
     "output_type": "display_data"
    },
    {
     "data": {
      "application/javascript": [
       "IPython.CodeCell.config_defaults.highlight_modes['magic_text/x-c++src'] = {'reg':[/^%%cpp/]};"
      ]
     },
     "metadata": {
      "engine": 10
     },
     "output_type": "display_data"
    },
    {
     "data": {
      "text/plain": [
       "[output:11]"
      ]
     },
     "metadata": {},
     "output_type": "display_data"
    },
    {
     "data": {
      "application/javascript": [
       "require(['codemirror/mode/clike/clike'], function(Clike) { console.log('ROOTaaS - C++ CodeMirror module loaded'); });"
      ]
     },
     "metadata": {
      "engine": 11
     },
     "output_type": "display_data"
    },
    {
     "data": {
      "application/javascript": [
       "IPython.CodeCell.config_defaults.highlight_modes['magic_text/x-c++src'] = {'reg':[/^%%cpp/]};"
      ]
     },
     "metadata": {
      "engine": 11
     },
     "output_type": "display_data"
    },
    {
     "data": {
      "text/plain": [
       "[output:12]"
      ]
     },
     "metadata": {},
     "output_type": "display_data"
    },
    {
     "data": {
      "application/javascript": [
       "require(['codemirror/mode/clike/clike'], function(Clike) { console.log('ROOTaaS - C++ CodeMirror module loaded'); });"
      ]
     },
     "metadata": {
      "engine": 12
     },
     "output_type": "display_data"
    },
    {
     "data": {
      "application/javascript": [
       "IPython.CodeCell.config_defaults.highlight_modes['magic_text/x-c++src'] = {'reg':[/^%%cpp/]};"
      ]
     },
     "metadata": {
      "engine": 12
     },
     "output_type": "display_data"
    },
    {
     "data": {
      "text/plain": [
       "[output:13]"
      ]
     },
     "metadata": {},
     "output_type": "display_data"
    },
    {
     "data": {
      "application/javascript": [
       "require(['codemirror/mode/clike/clike'], function(Clike) { console.log('ROOTaaS - C++ CodeMirror module loaded'); });"
      ]
     },
     "metadata": {
      "engine": 13
     },
     "output_type": "display_data"
    },
    {
     "data": {
      "application/javascript": [
       "IPython.CodeCell.config_defaults.highlight_modes['magic_text/x-c++src'] = {'reg':[/^%%cpp/]};"
      ]
     },
     "metadata": {
      "engine": 13
     },
     "output_type": "display_data"
    },
    {
     "data": {
      "text/plain": [
       "[output:14]"
      ]
     },
     "metadata": {},
     "output_type": "display_data"
    },
    {
     "data": {
      "application/javascript": [
       "require(['codemirror/mode/clike/clike'], function(Clike) { console.log('ROOTaaS - C++ CodeMirror module loaded'); });"
      ]
     },
     "metadata": {
      "engine": 14
     },
     "output_type": "display_data"
    },
    {
     "data": {
      "application/javascript": [
       "IPython.CodeCell.config_defaults.highlight_modes['magic_text/x-c++src'] = {'reg':[/^%%cpp/]};"
      ]
     },
     "metadata": {
      "engine": 14
     },
     "output_type": "display_data"
    },
    {
     "data": {
      "text/plain": [
       "[output:15]"
      ]
     },
     "metadata": {},
     "output_type": "display_data"
    },
    {
     "data": {
      "application/javascript": [
       "require(['codemirror/mode/clike/clike'], function(Clike) { console.log('ROOTaaS - C++ CodeMirror module loaded'); });"
      ]
     },
     "metadata": {
      "engine": 15
     },
     "output_type": "display_data"
    },
    {
     "data": {
      "application/javascript": [
       "IPython.CodeCell.config_defaults.highlight_modes['magic_text/x-c++src'] = {'reg':[/^%%cpp/]};"
      ]
     },
     "metadata": {
      "engine": 15
     },
     "output_type": "display_data"
    },
    {
     "data": {
      "text/plain": [
       "[output:16]"
      ]
     },
     "metadata": {},
     "output_type": "display_data"
    },
    {
     "data": {
      "application/javascript": [
       "require(['codemirror/mode/clike/clike'], function(Clike) { console.log('ROOTaaS - C++ CodeMirror module loaded'); });"
      ]
     },
     "metadata": {
      "engine": 16
     },
     "output_type": "display_data"
    },
    {
     "data": {
      "application/javascript": [
       "IPython.CodeCell.config_defaults.highlight_modes['magic_text/x-c++src'] = {'reg':[/^%%cpp/]};"
      ]
     },
     "metadata": {
      "engine": 16
     },
     "output_type": "display_data"
    },
    {
     "data": {
      "text/plain": [
       "[output:17]"
      ]
     },
     "metadata": {},
     "output_type": "display_data"
    },
    {
     "data": {
      "application/javascript": [
       "require(['codemirror/mode/clike/clike'], function(Clike) { console.log('ROOTaaS - C++ CodeMirror module loaded'); });"
      ]
     },
     "metadata": {
      "engine": 17
     },
     "output_type": "display_data"
    },
    {
     "data": {
      "application/javascript": [
       "IPython.CodeCell.config_defaults.highlight_modes['magic_text/x-c++src'] = {'reg':[/^%%cpp/]};"
      ]
     },
     "metadata": {
      "engine": 17
     },
     "output_type": "display_data"
    }
   ],
   "source": [
    "%pxresult"
   ]
  }
 ],
 "metadata": {
  "kernelspec": {
   "display_name": "Python [default]",
   "language": "python",
   "name": "python2"
  },
  "language_info": {
   "codemirror_mode": {
    "name": "ipython",
    "version": 2
   },
   "file_extension": ".py",
   "mimetype": "text/x-python",
   "name": "python",
   "nbconvert_exporter": "python",
   "pygments_lexer": "ipython2",
   "version": "2.7.12"
  }
 },
 "nbformat": 4,
 "nbformat_minor": 1
}
