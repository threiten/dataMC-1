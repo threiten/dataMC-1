{
 "cells": [
  {
   "cell_type": "code",
   "execution_count": 22,
   "metadata": {
    "collapsed": false
   },
   "outputs": [
    {
     "name": "stdout",
     "output_type": "stream",
     "text": [
      "[      0  459529  919058 1378587 1838116 2297645 2757174 3216703 3676232\n",
      " 4135761]\n",
      "[ 459528  919057 1378586 1838115 2297644 2757173 3216702 3676231 4135760\n",
      " 4595295]\n"
     ]
    }
   ],
   "source": [
    "import numpy as np\n",
    "\n",
    "njobs=10\n",
    "nevents=4595295\n",
    "startEvts=np.array([0])\n",
    "stopEvts=np.array([nevents])\n",
    "startEvts=np.fromfunction(lambda i: i*(nevents/njobs), (njobs,), dtype=int)\n",
    "stopEvts=np.insert(stopEvts,0,np.fromfunction(lambda i: (i+1)*(nevents/njobs)-1,(njobs-1,), dtype=int))\n",
    "StEvs=np.arange(njobs)\n",
    "\n",
    "print startEvts\n",
    "print stopEvts"
   ]
  },
  {
   "cell_type": "code",
   "execution_count": 23,
   "metadata": {
    "collapsed": false
   },
   "outputs": [
    {
     "name": "stdout",
     "output_type": "stream",
     "text": [
      "[('/mnt/t3nfs01/data01/shome/threiten/QReg/dataMC-1/MTR/quantileRegression', 'mc', ('/mnt/t3nfs01/data01/shome/threiten/QReg/test/df_mc_All.h5', 0, 459528), ('/mnt/t3nfs01/data01/shome/threiten/QReg/test/data_weights', 'probeR9', [0.11, 0.22, 0.33, 0.44, 0.55, 0.66, 0.77, 0.88, 0.99]), ('/mnt/t3nfs01/data01/shome/threiten/QReg/test/mc_weights', 'probeR9', [0.11, 0.22, 0.33, 0.44, 0.55, 0.66, 0.77, 0.88, 0.99])), ('/mnt/t3nfs01/data01/shome/threiten/QReg/dataMC-1/MTR/quantileRegression', 'mc', ('/mnt/t3nfs01/data01/shome/threiten/QReg/test/df_mc_All.h5', 459529, 919057), ('/mnt/t3nfs01/data01/shome/threiten/QReg/test/data_weights', 'probeR9', [0.11, 0.22, 0.33, 0.44, 0.55, 0.66, 0.77, 0.88, 0.99]), ('/mnt/t3nfs01/data01/shome/threiten/QReg/test/mc_weights', 'probeR9', [0.11, 0.22, 0.33, 0.44, 0.55, 0.66, 0.77, 0.88, 0.99])), ('/mnt/t3nfs01/data01/shome/threiten/QReg/dataMC-1/MTR/quantileRegression', 'mc', ('/mnt/t3nfs01/data01/shome/threiten/QReg/test/df_mc_All.h5', 919058, 1378586), ('/mnt/t3nfs01/data01/shome/threiten/QReg/test/data_weights', 'probeR9', [0.11, 0.22, 0.33, 0.44, 0.55, 0.66, 0.77, 0.88, 0.99]), ('/mnt/t3nfs01/data01/shome/threiten/QReg/test/mc_weights', 'probeR9', [0.11, 0.22, 0.33, 0.44, 0.55, 0.66, 0.77, 0.88, 0.99])), ('/mnt/t3nfs01/data01/shome/threiten/QReg/dataMC-1/MTR/quantileRegression', 'mc', ('/mnt/t3nfs01/data01/shome/threiten/QReg/test/df_mc_All.h5', 1378587, 1838115), ('/mnt/t3nfs01/data01/shome/threiten/QReg/test/data_weights', 'probeR9', [0.11, 0.22, 0.33, 0.44, 0.55, 0.66, 0.77, 0.88, 0.99]), ('/mnt/t3nfs01/data01/shome/threiten/QReg/test/mc_weights', 'probeR9', [0.11, 0.22, 0.33, 0.44, 0.55, 0.66, 0.77, 0.88, 0.99])), ('/mnt/t3nfs01/data01/shome/threiten/QReg/dataMC-1/MTR/quantileRegression', 'mc', ('/mnt/t3nfs01/data01/shome/threiten/QReg/test/df_mc_All.h5', 1838116, 2297644), ('/mnt/t3nfs01/data01/shome/threiten/QReg/test/data_weights', 'probeR9', [0.11, 0.22, 0.33, 0.44, 0.55, 0.66, 0.77, 0.88, 0.99]), ('/mnt/t3nfs01/data01/shome/threiten/QReg/test/mc_weights', 'probeR9', [0.11, 0.22, 0.33, 0.44, 0.55, 0.66, 0.77, 0.88, 0.99])), ('/mnt/t3nfs01/data01/shome/threiten/QReg/dataMC-1/MTR/quantileRegression', 'mc', ('/mnt/t3nfs01/data01/shome/threiten/QReg/test/df_mc_All.h5', 2297645, 2757173), ('/mnt/t3nfs01/data01/shome/threiten/QReg/test/data_weights', 'probeR9', [0.11, 0.22, 0.33, 0.44, 0.55, 0.66, 0.77, 0.88, 0.99]), ('/mnt/t3nfs01/data01/shome/threiten/QReg/test/mc_weights', 'probeR9', [0.11, 0.22, 0.33, 0.44, 0.55, 0.66, 0.77, 0.88, 0.99])), ('/mnt/t3nfs01/data01/shome/threiten/QReg/dataMC-1/MTR/quantileRegression', 'mc', ('/mnt/t3nfs01/data01/shome/threiten/QReg/test/df_mc_All.h5', 2757174, 3216702), ('/mnt/t3nfs01/data01/shome/threiten/QReg/test/data_weights', 'probeR9', [0.11, 0.22, 0.33, 0.44, 0.55, 0.66, 0.77, 0.88, 0.99]), ('/mnt/t3nfs01/data01/shome/threiten/QReg/test/mc_weights', 'probeR9', [0.11, 0.22, 0.33, 0.44, 0.55, 0.66, 0.77, 0.88, 0.99])), ('/mnt/t3nfs01/data01/shome/threiten/QReg/dataMC-1/MTR/quantileRegression', 'mc', ('/mnt/t3nfs01/data01/shome/threiten/QReg/test/df_mc_All.h5', 3216703, 3676231), ('/mnt/t3nfs01/data01/shome/threiten/QReg/test/data_weights', 'probeR9', [0.11, 0.22, 0.33, 0.44, 0.55, 0.66, 0.77, 0.88, 0.99]), ('/mnt/t3nfs01/data01/shome/threiten/QReg/test/mc_weights', 'probeR9', [0.11, 0.22, 0.33, 0.44, 0.55, 0.66, 0.77, 0.88, 0.99])), ('/mnt/t3nfs01/data01/shome/threiten/QReg/dataMC-1/MTR/quantileRegression', 'mc', ('/mnt/t3nfs01/data01/shome/threiten/QReg/test/df_mc_All.h5', 3676232, 4135760), ('/mnt/t3nfs01/data01/shome/threiten/QReg/test/data_weights', 'probeR9', [0.11, 0.22, 0.33, 0.44, 0.55, 0.66, 0.77, 0.88, 0.99]), ('/mnt/t3nfs01/data01/shome/threiten/QReg/test/mc_weights', 'probeR9', [0.11, 0.22, 0.33, 0.44, 0.55, 0.66, 0.77, 0.88, 0.99])), ('/mnt/t3nfs01/data01/shome/threiten/QReg/dataMC-1/MTR/quantileRegression', 'mc', ('/mnt/t3nfs01/data01/shome/threiten/QReg/test/df_mc_All.h5', 4135761, 4595295), ('/mnt/t3nfs01/data01/shome/threiten/QReg/test/data_weights', 'probeR9', [0.11, 0.22, 0.33, 0.44, 0.55, 0.66, 0.77, 0.88, 0.99]), ('/mnt/t3nfs01/data01/shome/threiten/QReg/test/mc_weights', 'probeR9', [0.11, 0.22, 0.33, 0.44, 0.55, 0.66, 0.77, 0.88, 0.99]))]\n"
     ]
    }
   ],
   "source": [
    "workDir = \"/mnt/t3nfs01/data01/shome/threiten/QReg/test\"\n",
    "Y=\"probeR9\"\n",
    "quantiles = [.11,.22,.33,.44,.55,.66,.77,.88,.99]\n",
    "\n",
    "\n",
    "#arg_list_mc=map(lambda q: (\"/mnt/t3nfs01/data01/shome/threiten/QReg/dataMC-1/MTR/quantileRegression\",\n",
    "#                            \"mc\",\n",
    "#                          (workDir + \"/df_mc_All.h5\",startEvt,stopEvt)),\n",
    "#                           quantiles)\n",
    "\n",
    "arg_list=map(lambda istEv: (\"/mnt/t3nfs01/data01/shome/threiten/QReg/dataMC-1/MTR/quantileRegression\",\n",
    "                             \"mc\",\n",
    "                            (workDir + \"/df_mc_All.h5\",startEvts[istEv],stopEvts[istEv]),\n",
    "                            (workDir + \"/data_weights\",\"probeR9\",quantiles),\n",
    "                            (workDir + \"/mc_weights\",\"probeR9\",quantiles)),\n",
    "                             StEvs)\n",
    "\n",
    "print arg_list\n"
   ]
  },
  {
   "cell_type": "code",
   "execution_count": 32,
   "metadata": {
    "collapsed": false
   },
   "outputs": [
    {
     "data": {
      "text/plain": [
       "[0, 1, 2, 3, 4, 5, 6, 7, 8, 9]"
      ]
     },
     "execution_count": 32,
     "metadata": {},
     "output_type": "execute_result"
    }
   ],
   "source": [
    "import ipyparallel as ipp\n",
    "rc = ipp.Client(profile='short')\n",
    "dv=rc[:]\n",
    "dv.activate()\n",
    "rc.ids\n",
    "dv.scatter('args',arg_list)\n",
    "dv.targets"
   ]
  },
  {
   "cell_type": "code",
   "execution_count": 33,
   "metadata": {
    "collapsed": false
   },
   "outputs": [
    {
     "data": {
      "text/plain": [
       "<AsyncResult: execute>"
      ]
     },
     "execution_count": 33,
     "metadata": {},
     "output_type": "execute_result"
    }
   ],
   "source": [
    "%%px --noblock\n",
    "\n",
    "import numpy as np\n",
    "\n",
    "lib, tpe, args_df, args_dataw, args_mcw = args[0]\n",
    "from import_file import import_file\n",
    "QReg = import_file(lib)\n",
    "\n",
    "qReg_mc = QReg.quantileRegression(tpe)\n",
    "qReg_mc.loadDFh5(*args_df)\n",
    "qReg_mc.loadDataWeights(*args_dataw)\n",
    "qReg_mc.loadMcWeights(*args_mcw)\n",
    "\n",
    "x = ['probePt', 'probeEta', 'probePhi', 'rho']\n",
    "y = 'probeR9'\n",
    "\n",
    "#print \"Get corrections for \", y, \" with quantiles \", quantiles\n",
    "\n",
    "y_tmp = []\n",
    "\n",
    "# quantile regressions features                                                                    \n",
    "X    = qReg_mc.df.loc[:,x].values\n",
    "# target e.g. y = \"R9\"                                                                             \n",
    "Y    = qReg_mc.df[y]\n",
    "print \"Features: X = \", x, \" target y = \", y\n",
    "# print X, Y                                                                                       \n",
    "\n",
    "if y == 'PhoIso03' or y == 'ChIso03' or y == 'ChIso03worst':\n",
    "    Y = Y - 0.1*qReg_mc.df['rho']\n",
    "    \n",
    "Y = Y.values.reshape(-1,1)\n",
    "Z = np.hstack([X,Y])\n",
    "\n",
    "Y_corr = QReg.Corrector(qReg_mc.mcclf, qReg_mc.dataclf, Z[:,:-1], Z[:,-1])()\n",
    "qReg_mc.df[y+\"_corr\"] = Y_corr\n",
    "\n",
    "print Y_corr"
   ]
  },
  {
   "cell_type": "code",
   "execution_count": 34,
   "metadata": {
    "collapsed": false
   },
   "outputs": [
    {
     "name": "stdout",
     "output_type": "stream",
     "text": [
      "[stdout:0] \n",
      "Welcome to ROOTaaS 6.06/05\n",
      "Loading dataframe from :  /mnt/t3nfs01/data01/shome/threiten/QReg/test/df_mc_All.h5\n",
      "\u001b[92mSelecting events \u001b[0m  [ 0 ,  459528 ]  out of  4595295\n",
      "number of events: 459528\n",
      "Features: X =  ['probePt', 'probeEta', 'probePhi', 'rho']  target y =  probeR9\n",
      "[ 0.82588571  0.86952533  0.95608161 ...,  0.94233006  0.8956519\n",
      "  0.96886695]\n",
      "[stdout:1] \n",
      "Welcome to ROOTaaS 6.06/05\n",
      "Loading dataframe from :  /mnt/t3nfs01/data01/shome/threiten/QReg/test/df_mc_All.h5\n",
      "\u001b[92mSelecting events \u001b[0m  [ 459529 ,  919057 ]  out of  4595295\n",
      "number of events: 459528\n",
      "Features: X =  ['probePt', 'probeEta', 'probePhi', 'rho']  target y =  probeR9\n",
      "[ 0.93850304  0.94611547  0.76837734 ...,  0.79560124  0.67712743\n",
      "  0.95411176]\n",
      "[stdout:2] \n",
      "Welcome to ROOTaaS 6.06/05\n",
      "Loading dataframe from :  /mnt/t3nfs01/data01/shome/threiten/QReg/test/df_mc_All.h5\n",
      "\u001b[92mSelecting events \u001b[0m  [ 919058 ,  1378586 ]  out of  4595295\n",
      "number of events: 459528\n",
      "Features: X =  ['probePt', 'probeEta', 'probePhi', 'rho']  target y =  probeR9\n",
      "[ 0.98477607  0.64473366  0.91317635 ...,  0.95284529  0.97486335\n",
      "  0.95141529]\n",
      "[stdout:3] \n",
      "Welcome to ROOTaaS 6.06/05\n",
      "Loading dataframe from :  /mnt/t3nfs01/data01/shome/threiten/QReg/test/df_mc_All.h5\n",
      "\u001b[92mSelecting events \u001b[0m  [ 1378587 ,  1838115 ]  out of  4595295\n",
      "number of events: 459528\n",
      "Features: X =  ['probePt', 'probeEta', 'probePhi', 'rho']  target y =  probeR9\n",
      "[ 0.64331166  0.84021979  0.6772799  ...,  0.88827638  0.98835459\n",
      "  0.79995611]\n",
      "[stdout:4] \n",
      "Welcome to ROOTaaS 6.06/05\n",
      "Loading dataframe from :  /mnt/t3nfs01/data01/shome/threiten/QReg/test/df_mc_All.h5\n",
      "\u001b[92mSelecting events \u001b[0m  [ 1838116 ,  2297644 ]  out of  4595295\n",
      "number of events: 459528\n",
      "Features: X =  ['probePt', 'probeEta', 'probePhi', 'rho']  target y =  probeR9\n",
      "[ 0.8680201   0.92218188  0.58371261 ...,  0.94201594  0.90975737\n",
      "  0.94907395]\n",
      "[stdout:5] \n",
      "Welcome to ROOTaaS 6.06/05\n",
      "Loading dataframe from :  /mnt/t3nfs01/data01/shome/threiten/QReg/test/df_mc_All.h5\n",
      "\u001b[92mSelecting events \u001b[0m  [ 2297645 ,  2757173 ]  out of  4595295\n",
      "number of events: 459528\n",
      "Features: X =  ['probePt', 'probeEta', 'probePhi', 'rho']  target y =  probeR9\n",
      "[ 0.91555039  0.95189886  0.93917857 ...,  0.85662997  0.76802665\n",
      "  0.89309512]\n",
      "[stdout:6] \n",
      "Welcome to ROOTaaS 6.06/05\n",
      "Loading dataframe from :  /mnt/t3nfs01/data01/shome/threiten/QReg/test/df_mc_All.h5\n",
      "\u001b[92mSelecting events \u001b[0m  [ 2757174 ,  3216702 ]  out of  4595295\n",
      "number of events: 459528\n",
      "Features: X =  ['probePt', 'probeEta', 'probePhi', 'rho']  target y =  probeR9\n",
      "[ 0.91961233  0.4206087   0.71237326 ...,  0.99485844  0.97839959\n",
      "  0.95549137]\n",
      "[stdout:7] \n",
      "Welcome to ROOTaaS 6.06/05\n",
      "Loading dataframe from :  /mnt/t3nfs01/data01/shome/threiten/QReg/test/df_mc_All.h5\n",
      "\u001b[92mSelecting events \u001b[0m  [ 3216703 ,  3676231 ]  out of  4595295\n",
      "number of events: 459528\n",
      "Features: X =  ['probePt', 'probeEta', 'probePhi', 'rho']  target y =  probeR9\n",
      "[ 0.56026476  0.90887724  0.85189391 ...,  0.68089664  0.95648194\n",
      "  0.66518344]\n",
      "[stdout:8] \n",
      "Welcome to ROOTaaS 6.06/05\n",
      "Loading dataframe from :  /mnt/t3nfs01/data01/shome/threiten/QReg/test/df_mc_All.h5\n",
      "\u001b[92mSelecting events \u001b[0m  [ 3676232 ,  4135760 ]  out of  4595295\n",
      "number of events: 459528\n",
      "Features: X =  ['probePt', 'probeEta', 'probePhi', 'rho']  target y =  probeR9\n",
      "[ 0.94620271  0.82139418  0.96562866 ...,  0.79961178  0.92800481\n",
      "  0.96367739]\n",
      "[stdout:9] \n",
      "Welcome to ROOTaaS 6.06/05\n",
      "Loading dataframe from :  /mnt/t3nfs01/data01/shome/threiten/QReg/test/df_mc_All.h5\n",
      "\u001b[92mSelecting events \u001b[0m  [ 4135761 ,  4595295 ]  out of  4595295\n",
      "number of events: 459534\n",
      "Features: X =  ['probePt', 'probeEta', 'probePhi', 'rho']  target y =  probeR9\n",
      "[ 0.952272    0.73182285  0.93284499 ...,  0.94478763  0.96168883\n",
      "  0.90681032]\n"
     ]
    },
    {
     "data": {
      "text/plain": [
       "[output:0]"
      ]
     },
     "metadata": {},
     "output_type": "display_data"
    },
    {
     "data": {
      "application/javascript": [
       "require(['codemirror/mode/clike/clike'], function(Clike) { console.log('ROOTaaS - C++ CodeMirror module loaded'); });"
      ]
     },
     "metadata": {
      "engine": 0
     },
     "output_type": "display_data"
    },
    {
     "data": {
      "application/javascript": [
       "IPython.CodeCell.config_defaults.highlight_modes['magic_text/x-c++src'] = {'reg':[/^%%cpp/]};"
      ]
     },
     "metadata": {
      "engine": 0
     },
     "output_type": "display_data"
    },
    {
     "data": {
      "text/plain": [
       "[output:1]"
      ]
     },
     "metadata": {},
     "output_type": "display_data"
    },
    {
     "data": {
      "application/javascript": [
       "require(['codemirror/mode/clike/clike'], function(Clike) { console.log('ROOTaaS - C++ CodeMirror module loaded'); });"
      ]
     },
     "metadata": {
      "engine": 1
     },
     "output_type": "display_data"
    },
    {
     "data": {
      "application/javascript": [
       "IPython.CodeCell.config_defaults.highlight_modes['magic_text/x-c++src'] = {'reg':[/^%%cpp/]};"
      ]
     },
     "metadata": {
      "engine": 1
     },
     "output_type": "display_data"
    },
    {
     "data": {
      "text/plain": [
       "[output:2]"
      ]
     },
     "metadata": {},
     "output_type": "display_data"
    },
    {
     "data": {
      "application/javascript": [
       "require(['codemirror/mode/clike/clike'], function(Clike) { console.log('ROOTaaS - C++ CodeMirror module loaded'); });"
      ]
     },
     "metadata": {
      "engine": 2
     },
     "output_type": "display_data"
    },
    {
     "data": {
      "application/javascript": [
       "IPython.CodeCell.config_defaults.highlight_modes['magic_text/x-c++src'] = {'reg':[/^%%cpp/]};"
      ]
     },
     "metadata": {
      "engine": 2
     },
     "output_type": "display_data"
    },
    {
     "data": {
      "text/plain": [
       "[output:3]"
      ]
     },
     "metadata": {},
     "output_type": "display_data"
    },
    {
     "data": {
      "application/javascript": [
       "require(['codemirror/mode/clike/clike'], function(Clike) { console.log('ROOTaaS - C++ CodeMirror module loaded'); });"
      ]
     },
     "metadata": {
      "engine": 3
     },
     "output_type": "display_data"
    },
    {
     "data": {
      "application/javascript": [
       "IPython.CodeCell.config_defaults.highlight_modes['magic_text/x-c++src'] = {'reg':[/^%%cpp/]};"
      ]
     },
     "metadata": {
      "engine": 3
     },
     "output_type": "display_data"
    },
    {
     "data": {
      "text/plain": [
       "[output:4]"
      ]
     },
     "metadata": {},
     "output_type": "display_data"
    },
    {
     "data": {
      "application/javascript": [
       "require(['codemirror/mode/clike/clike'], function(Clike) { console.log('ROOTaaS - C++ CodeMirror module loaded'); });"
      ]
     },
     "metadata": {
      "engine": 4
     },
     "output_type": "display_data"
    },
    {
     "data": {
      "application/javascript": [
       "IPython.CodeCell.config_defaults.highlight_modes['magic_text/x-c++src'] = {'reg':[/^%%cpp/]};"
      ]
     },
     "metadata": {
      "engine": 4
     },
     "output_type": "display_data"
    },
    {
     "data": {
      "text/plain": [
       "[output:5]"
      ]
     },
     "metadata": {},
     "output_type": "display_data"
    },
    {
     "data": {
      "application/javascript": [
       "require(['codemirror/mode/clike/clike'], function(Clike) { console.log('ROOTaaS - C++ CodeMirror module loaded'); });"
      ]
     },
     "metadata": {
      "engine": 5
     },
     "output_type": "display_data"
    },
    {
     "data": {
      "application/javascript": [
       "IPython.CodeCell.config_defaults.highlight_modes['magic_text/x-c++src'] = {'reg':[/^%%cpp/]};"
      ]
     },
     "metadata": {
      "engine": 5
     },
     "output_type": "display_data"
    },
    {
     "data": {
      "text/plain": [
       "[output:6]"
      ]
     },
     "metadata": {},
     "output_type": "display_data"
    },
    {
     "data": {
      "application/javascript": [
       "require(['codemirror/mode/clike/clike'], function(Clike) { console.log('ROOTaaS - C++ CodeMirror module loaded'); });"
      ]
     },
     "metadata": {
      "engine": 6
     },
     "output_type": "display_data"
    },
    {
     "data": {
      "application/javascript": [
       "IPython.CodeCell.config_defaults.highlight_modes['magic_text/x-c++src'] = {'reg':[/^%%cpp/]};"
      ]
     },
     "metadata": {
      "engine": 6
     },
     "output_type": "display_data"
    },
    {
     "data": {
      "text/plain": [
       "[output:7]"
      ]
     },
     "metadata": {},
     "output_type": "display_data"
    },
    {
     "data": {
      "application/javascript": [
       "require(['codemirror/mode/clike/clike'], function(Clike) { console.log('ROOTaaS - C++ CodeMirror module loaded'); });"
      ]
     },
     "metadata": {
      "engine": 7
     },
     "output_type": "display_data"
    },
    {
     "data": {
      "application/javascript": [
       "IPython.CodeCell.config_defaults.highlight_modes['magic_text/x-c++src'] = {'reg':[/^%%cpp/]};"
      ]
     },
     "metadata": {
      "engine": 7
     },
     "output_type": "display_data"
    },
    {
     "data": {
      "text/plain": [
       "[output:8]"
      ]
     },
     "metadata": {},
     "output_type": "display_data"
    },
    {
     "data": {
      "application/javascript": [
       "require(['codemirror/mode/clike/clike'], function(Clike) { console.log('ROOTaaS - C++ CodeMirror module loaded'); });"
      ]
     },
     "metadata": {
      "engine": 8
     },
     "output_type": "display_data"
    },
    {
     "data": {
      "application/javascript": [
       "IPython.CodeCell.config_defaults.highlight_modes['magic_text/x-c++src'] = {'reg':[/^%%cpp/]};"
      ]
     },
     "metadata": {
      "engine": 8
     },
     "output_type": "display_data"
    },
    {
     "data": {
      "text/plain": [
       "[output:9]"
      ]
     },
     "metadata": {},
     "output_type": "display_data"
    },
    {
     "data": {
      "application/javascript": [
       "require(['codemirror/mode/clike/clike'], function(Clike) { console.log('ROOTaaS - C++ CodeMirror module loaded'); });"
      ]
     },
     "metadata": {
      "engine": 9
     },
     "output_type": "display_data"
    },
    {
     "data": {
      "application/javascript": [
       "IPython.CodeCell.config_defaults.highlight_modes['magic_text/x-c++src'] = {'reg':[/^%%cpp/]};"
      ]
     },
     "metadata": {
      "engine": 9
     },
     "output_type": "display_data"
    }
   ],
   "source": [
    "%pxresult"
   ]
  },
  {
   "cell_type": "code",
   "execution_count": 35,
   "metadata": {
    "collapsed": false
   },
   "outputs": [],
   "source": [
    "df_all = dv.gather('qReg_mc')"
   ]
  },
  {
   "cell_type": "code",
   "execution_count": 36,
   "metadata": {
    "collapsed": false
   },
   "outputs": [
    {
     "ename": "CompositeError",
     "evalue": "one or more exceptions from call to method: gather\n[Engine Exception]EngineError: Engine 0 died while running task '4f831774-0dde-4594-a886-103a22f2494a'\n[Engine Exception]EngineError: Engine 1 died while running task '9f1d4b40-022d-4122-9e32-2a9c95e157ca'\n[Engine Exception]EngineError: Engine 2 died while running task '12fcdb8c-b7e1-434c-983a-a9cbace7fc43'\n[Engine Exception]EngineError: Engine 3 died while running task 'e6aac149-70d1-477f-97fc-24270c32ab42'\n.... 6 more exceptions ...",
     "output_type": "error",
     "traceback": [
      "[Engine Exception]",
      "Traceback (most recent call last):",
      "  File \"/swshare/anaconda/lib/python2.7/site-packages/ipyparallel/client/client.py\", line 720, in _handle_stranded_msgs",
      "    raise error.EngineError(\"Engine %r died while running task %r\"%(eid, msg_id))",
      "EngineError: Engine 0 died while running task '4f831774-0dde-4594-a886-103a22f2494a'",
      "",
      "[Engine Exception]",
      "Traceback (most recent call last):",
      "  File \"/swshare/anaconda/lib/python2.7/site-packages/ipyparallel/client/client.py\", line 720, in _handle_stranded_msgs",
      "    raise error.EngineError(\"Engine %r died while running task %r\"%(eid, msg_id))",
      "EngineError: Engine 1 died while running task '9f1d4b40-022d-4122-9e32-2a9c95e157ca'",
      "",
      "[Engine Exception]",
      "Traceback (most recent call last):",
      "  File \"/swshare/anaconda/lib/python2.7/site-packages/ipyparallel/client/client.py\", line 720, in _handle_stranded_msgs",
      "    raise error.EngineError(\"Engine %r died while running task %r\"%(eid, msg_id))",
      "EngineError: Engine 2 died while running task '12fcdb8c-b7e1-434c-983a-a9cbace7fc43'",
      "",
      "[Engine Exception]",
      "Traceback (most recent call last):",
      "  File \"/swshare/anaconda/lib/python2.7/site-packages/ipyparallel/client/client.py\", line 720, in _handle_stranded_msgs",
      "    raise error.EngineError(\"Engine %r died while running task %r\"%(eid, msg_id))",
      "EngineError: Engine 3 died while running task 'e6aac149-70d1-477f-97fc-24270c32ab42'",
      "",
      "... 6 more exceptions ..."
     ]
    }
   ],
   "source": [
    "df_dict= df_all.get_dict()"
   ]
  }
 ],
 "metadata": {
  "anaconda-cloud": {},
  "kernelspec": {
   "display_name": "Python [default]",
   "language": "python",
   "name": "python2"
  },
  "language_info": {
   "codemirror_mode": {
    "name": "ipython",
    "version": 2
   },
   "file_extension": ".py",
   "mimetype": "text/x-python",
   "name": "python",
   "nbconvert_exporter": "python",
   "pygments_lexer": "ipython2",
   "version": "2.7.12"
  }
 },
 "nbformat": 4,
 "nbformat_minor": 1
}
